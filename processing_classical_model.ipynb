{
  "nbformat": 4,
  "nbformat_minor": 0,
  "metadata": {
    "colab": {
      "name": "processing_classical_model.ipynb",
      "provenance": [],
      "collapsed_sections": [],
      "authorship_tag": "ABX9TyNRD7XqfO9/GAwW/iCgNAVK",
      "include_colab_link": true
    },
    "kernelspec": {
      "name": "python3",
      "display_name": "Python 3"
    },
    "accelerator": "GPU"
  },
  "cells": [
    {
      "cell_type": "markdown",
      "metadata": {
        "id": "view-in-github",
        "colab_type": "text"
      },
      "source": [
        "<a href=\"https://colab.research.google.com/github/NguyenYen153/My-code/blob/master/processing_classical_model.ipynb\" target=\"_parent\"><img src=\"https://colab.research.google.com/assets/colab-badge.svg\" alt=\"Open In Colab\"/></a>"
      ]
    },
    {
      "cell_type": "code",
      "metadata": {
        "id": "0dv4McvNlbqL",
        "colab_type": "code",
        "outputId": "499ead12-954a-4b6c-f906-b616cce85827",
        "colab": {
          "base_uri": "https://localhost:8080/",
          "height": 122
        }
      },
      "source": [
        "from google.colab import drive\n",
        "drive.mount('/content/drive')"
      ],
      "execution_count": 0,
      "outputs": [
        {
          "output_type": "stream",
          "text": [
            "Go to this URL in a browser: https://accounts.google.com/o/oauth2/auth?client_id=947318989803-6bn6qk8qdgf4n4g3pfee6491hc0brc4i.apps.googleusercontent.com&redirect_uri=urn%3aietf%3awg%3aoauth%3a2.0%3aoob&response_type=code&scope=email%20https%3a%2f%2fwww.googleapis.com%2fauth%2fdocs.test%20https%3a%2f%2fwww.googleapis.com%2fauth%2fdrive%20https%3a%2f%2fwww.googleapis.com%2fauth%2fdrive.photos.readonly%20https%3a%2f%2fwww.googleapis.com%2fauth%2fpeopleapi.readonly\n",
            "\n",
            "Enter your authorization code:\n",
            "··········\n",
            "Mounted at /content/drive\n"
          ],
          "name": "stdout"
        }
      ]
    },
    {
      "cell_type": "code",
      "metadata": {
        "id": "49rU7yOKr9Xb",
        "colab_type": "code",
        "outputId": "23d6df97-dfd4-4ca8-c999-97a6d634f14c",
        "colab": {
          "base_uri": "https://localhost:8080/",
          "height": 326
        }
      },
      "source": [
        "!pip install pyvi"
      ],
      "execution_count": 0,
      "outputs": [
        {
          "output_type": "stream",
          "text": [
            "Collecting pyvi\n",
            "\u001b[?25l  Downloading https://files.pythonhosted.org/packages/10/e1/0e5bc6b5e3327b9385d6e0f1b0a7c0404f28b74eb6db59a778515b30fd9c/pyvi-0.1-py2.py3-none-any.whl (8.5MB)\n",
            "\u001b[K     |████████████████████████████████| 8.5MB 4.4MB/s \n",
            "\u001b[?25hCollecting sklearn-crfsuite\n",
            "  Downloading https://files.pythonhosted.org/packages/25/74/5b7befa513482e6dee1f3dd68171a6c9dfc14c0eaa00f885ffeba54fe9b0/sklearn_crfsuite-0.3.6-py2.py3-none-any.whl\n",
            "Requirement already satisfied: scikit-learn in /usr/local/lib/python3.6/dist-packages (from pyvi) (0.22.2.post1)\n",
            "Collecting python-crfsuite>=0.8.3\n",
            "\u001b[?25l  Downloading https://files.pythonhosted.org/packages/95/99/869dde6dbf3e0d07a013c8eebfb0a3d30776334e0097f8432b631a9a3a19/python_crfsuite-0.9.7-cp36-cp36m-manylinux1_x86_64.whl (743kB)\n",
            "\u001b[K     |████████████████████████████████| 747kB 41.0MB/s \n",
            "\u001b[?25hRequirement already satisfied: six in /usr/local/lib/python3.6/dist-packages (from sklearn-crfsuite->pyvi) (1.12.0)\n",
            "Requirement already satisfied: tqdm>=2.0 in /usr/local/lib/python3.6/dist-packages (from sklearn-crfsuite->pyvi) (4.41.1)\n",
            "Requirement already satisfied: tabulate in /usr/local/lib/python3.6/dist-packages (from sklearn-crfsuite->pyvi) (0.8.7)\n",
            "Requirement already satisfied: joblib>=0.11 in /usr/local/lib/python3.6/dist-packages (from scikit-learn->pyvi) (0.15.1)\n",
            "Requirement already satisfied: numpy>=1.11.0 in /usr/local/lib/python3.6/dist-packages (from scikit-learn->pyvi) (1.18.4)\n",
            "Requirement already satisfied: scipy>=0.17.0 in /usr/local/lib/python3.6/dist-packages (from scikit-learn->pyvi) (1.4.1)\n",
            "Installing collected packages: python-crfsuite, sklearn-crfsuite, pyvi\n",
            "Successfully installed python-crfsuite-0.9.7 pyvi-0.1 sklearn-crfsuite-0.3.6\n"
          ],
          "name": "stdout"
        }
      ]
    },
    {
      "cell_type": "code",
      "metadata": {
        "id": "apry_0QGr7EP",
        "colab_type": "code",
        "colab": {}
      },
      "source": [
        "from pyvi import ViTokenizer\n",
        "import re, os, string\n",
        "import pandas as pd\n",
        "from gensim.models import Word2Vec\n",
        "from gensim.models import KeyedVectors\n",
        "import numpy as np\n",
        "import unicodedata as ud\n",
        "import random\n",
        "import csv\n",
        "import time\n",
        "from tqdm import tqdm\n",
        "from gensim import utils\n",
        "from gensim.models.doc2vec import LabeledSentence, TaggedDocument\n",
        "from gensim.models import Doc2Vec"
      ],
      "execution_count": 0,
      "outputs": []
    },
    {
      "cell_type": "code",
      "metadata": {
        "id": "-YqA9iAC1gNd",
        "colab_type": "code",
        "colab": {}
      },
      "source": [
        "from sklearn.svm import LinearSVC\n",
        "from gensim import corpora, matutils\n",
        "from sklearn.metrics import classification_report\n",
        "from sklearn.model_selection import train_test_split\n",
        "import nltk\n",
        "import matplotlib.pyplot as plt\n",
        "%matplotlib inline"
      ],
      "execution_count": 0,
      "outputs": []
    },
    {
      "cell_type": "code",
      "metadata": {
        "id": "8xk3SVFVlgFG",
        "colab_type": "code",
        "colab": {}
      },
      "source": [
        "data_path = '/content/drive/My Drive/data/VNFN/'\n",
        "file_stopwords = 'Dictionaries/Stopwords_vi.txt'\n",
        "d2v_model_path = 'em_model/doc2vec_model.vec'\n",
        "w2v_path_pre_trained = 'em_model/cc.vi.300.vec'\n",
        "w2v_model_path = '/content/drive/My Drive/LuanVan/model/word2vec_skipgram.model'"
      ],
      "execution_count": 0,
      "outputs": []
    },
    {
      "cell_type": "code",
      "metadata": {
        "id": "WHYOEeK9lj2P",
        "colab_type": "code",
        "colab": {}
      },
      "source": [
        "csv_226 = 'pre_data/preproc_vn_news_226_tlfr.csv' \n",
        "csv_223 = 'pre_data/preproc_vn_news_223_tdlfr.csv' \n",
        "csv_news = 'pre_data/preproc_vn_news_376.csv' \n",
        "new_data = 'vn_news_376.csv'"
      ],
      "execution_count": 0,
      "outputs": []
    },
    {
      "cell_type": "code",
      "metadata": {
        "id": "RQG08T5WlmEm",
        "colab_type": "code",
        "colab": {}
      },
      "source": [
        "def DataReader(data_path, csv_path):\n",
        "    data = []\n",
        "    with open(os.path.join(data_path, csv_path), 'r', encoding ='utf-8') as csv_file:\n",
        "      reader = csv.DictReader(csv_file)\n",
        "      data = list(reader)\n",
        "    return data\n",
        "def get_data(datas):\n",
        "    texts = []\n",
        "    labels = []\n",
        "    for data in datas:\n",
        "        texts.append(' '.join(data['text'].split()))\n",
        "        labels.append(data['label'])\n",
        "    return texts, labels\n"
      ],
      "execution_count": 0,
      "outputs": []
    },
    {
      "cell_type": "code",
      "metadata": {
        "id": "XcLjJtuMqxxv",
        "colab_type": "code",
        "colab": {}
      },
      "source": [
        "datas = DataReader(data_path,csv_news)"
      ],
      "execution_count": 0,
      "outputs": []
    },
    {
      "cell_type": "code",
      "metadata": {
        "id": "7cVUkHZ2Pbja",
        "colab_type": "code",
        "colab": {}
      },
      "source": [
        "#data = pd.read_csv(os.path.join(data_path, new_data))"
      ],
      "execution_count": 0,
      "outputs": []
    },
    {
      "cell_type": "code",
      "metadata": {
        "id": "ctU8XKbRQKjX",
        "colab_type": "code",
        "colab": {}
      },
      "source": [
        "#print(data['label'])"
      ],
      "execution_count": 0,
      "outputs": []
    },
    {
      "cell_type": "code",
      "metadata": {
        "id": "gffeLZ6v5Lrw",
        "colab_type": "code",
        "outputId": "efa18139-5575-40ec-c037-9c7c8982aa2e",
        "colab": {
          "base_uri": "https://localhost:8080/",
          "height": 34
        }
      },
      "source": [
        "texts =[]\n",
        "labels = []\n",
        "for train in datas:\n",
        "    texts.append(' '.join(train['text'].split()+train['title'].split()) +'.'+train['domain'])\n",
        "    labels.append(train['label'])\n",
        "print(len(texts))\n"
      ],
      "execution_count": 0,
      "outputs": [
        {
          "output_type": "stream",
          "text": [
            "376\n"
          ],
          "name": "stdout"
        }
      ]
    },
    {
      "cell_type": "code",
      "metadata": {
        "id": "2sYx269e1z5C",
        "colab_type": "code",
        "colab": {}
      },
      "source": [
        "import numpy as np\n",
        "import pickle\n",
        "from collections import defaultdict\n",
        "import sys, re\n",
        "import pandas as pd\n",
        "def build_data_cv(data_file):\n",
        "    \"\"\"\n",
        "    Loads data and split into 10 folds.\n",
        "    \"\"\"\n",
        "    vocab = defaultdict(float)\n",
        "    with open(data_file, \"r\", encoding ='utf-8') as f:\n",
        "        data = pd.read_csv(f)\n",
        "        texts = data['text'].values + data['title'] + data['domain']\n",
        "        labels = data['label'].values\n",
        "        tex = []\n",
        "        for text in texts:\n",
        "            tex.append(''.join(preparing_text(text)))\n",
        "        words = set(str(tex).split())#(i.split() for i in tex)\n",
        "        for word in words:\n",
        "            vocab[word] += 1\n",
        "    return labels,tex, vocab\n",
        " \n",
        "def add_unknown_words(word_vecs, vocab, min_df=1, k=300):\n",
        "    \"\"\"\n",
        "    For words that occur in at least min_df documents, create a separate word vector.    \n",
        "    0.25 is chosen so the unknown vectors have (approximately) same variance as pre-trained ones\n",
        "    \"\"\"\n",
        "    for word in vocab:\n",
        "        if word not in word_vecs and vocab[word] >= min_df:\n",
        "            word_vecs[word] = np.random.uniform(-0.25,0.25,k)  \n"
      ],
      "execution_count": 0,
      "outputs": []
    },
    {
      "cell_type": "code",
      "metadata": {
        "id": "u29CIJI30Ol1",
        "colab_type": "code",
        "outputId": "b5e31f4f-507e-44b4-e262-014c2a04a668",
        "colab": {
          "base_uri": "https://localhost:8080/",
          "height": 34
        }
      },
      "source": [
        "#X_text, y_labels\n",
        "X_train, X_test, y_train, y_test = train_test_split(texts,labels, test_size=0.25)\n",
        "len(y_test)\n"
      ],
      "execution_count": 0,
      "outputs": [
        {
          "output_type": "execute_result",
          "data": {
            "text/plain": [
              "94"
            ]
          },
          "metadata": {
            "tags": []
          },
          "execution_count": 25
        }
      ]
    },
    {
      "cell_type": "code",
      "metadata": {
        "id": "olDdTj3jKnct",
        "colab_type": "code",
        "colab": {}
      },
      "source": [
        "#convert label to number\n",
        "y_train_num = []\n",
        "y_test_num = []\n",
        "l=0\n",
        "for i in y_train:\n",
        "    if i == '0':\n",
        "      y_train_num.append(0)\n",
        "    elif i== '1':\n",
        "      y_train_num.append(1)\n",
        "for i in y_test:\n",
        "    if i == '0':\n",
        "      y_test_num.append(0)\n",
        "    elif i== '1':\n",
        "      y_test_num.append(1)\n",
        "y_test = y_test_num\n",
        "y_train = y_train_num\n"
      ],
      "execution_count": 0,
      "outputs": []
    },
    {
      "cell_type": "code",
      "metadata": {
        "id": "iynhC6P1RZ5i",
        "colab_type": "code",
        "colab": {}
      },
      "source": [
        "y = []\n",
        "for i in labels:\n",
        "    if i == '0':\n",
        "      y.append(0)\n",
        "    elif i== '1':\n",
        "      y.append(1)"
      ],
      "execution_count": 0,
      "outputs": []
    },
    {
      "cell_type": "code",
      "metadata": {
        "id": "wA3wNP-gkPGv",
        "colab_type": "code",
        "outputId": "be055b4c-9182-4ef6-b57b-8f0dc4ca8156",
        "colab": {
          "base_uri": "https://localhost:8080/",
          "height": 319
        }
      },
      "source": [
        "# Plot of label types numbers\n",
        "pd.Series(labels).value_counts().plot(\n",
        "    kind='pie', title='Labels Distribution', figsize=(5, 5))\n",
        "plt.show()"
      ],
      "execution_count": 0,
      "outputs": [
        {
          "output_type": "display_data",
          "data": {
            "image/png": "[encoded data removed]",
            "text/plain": [
              "<Figure size 360x360 with 1 Axes>"
            ]
          },
          "metadata": {
            "tags": []
          }
        }
      ]
    },
    {
      "cell_type": "code",
      "metadata": {
        "id": "kxMEzL3IsDqp",
        "colab_type": "code",
        "outputId": "674aa829-c184-4f20-c29b-6b58ea2e3bcb",
        "colab": {
          "base_uri": "https://localhost:8080/",
          "height": 68
        }
      },
      "source": [
        "pd.Series(labels).value_counts()"
      ],
      "execution_count": 0,
      "outputs": [
        {
          "output_type": "execute_result",
          "data": {
            "text/plain": [
              "0    246\n",
              "1    130\n",
              "dtype: int64"
            ]
          },
          "metadata": {
            "tags": []
          },
          "execution_count": 29
        }
      ]
    },
    {
      "cell_type": "code",
      "metadata": {
        "id": "BVHCrjHw1ThG",
        "colab_type": "code",
        "outputId": "2b56669d-ced4-411c-ec8d-418f4c8f3396",
        "colab": {
          "base_uri": "https://localhost:8080/",
          "height": 34
        }
      },
      "source": [
        "print(len(X_train), len(y_train), len(X_test), len(y_test))"
      ],
      "execution_count": 0,
      "outputs": [
        {
          "output_type": "stream",
          "text": [
            "282 282 94 94\n"
          ],
          "name": "stdout"
        }
      ]
    },
    {
      "cell_type": "code",
      "metadata": {
        "id": "o54e8r7T9nBL",
        "colab_type": "code",
        "colab": {}
      },
      "source": [
        "with open(os.path.join(data_path, file_stopwords)) as f:\n",
        "    list_stopwords = f.read()"
      ],
      "execution_count": 0,
      "outputs": []
    },
    {
      "cell_type": "markdown",
      "metadata": {
        "id": "OERFZR7KChhe",
        "colab_type": "text"
      },
      "source": [
        "#**BUILDING MODELS**"
      ]
    },
    {
      "cell_type": "code",
      "metadata": {
        "id": "eqKioKv3KNXk",
        "colab_type": "code",
        "colab": {}
      },
      "source": [
        "from sklearn.feature_extraction.text import TfidfVectorizer, CountVectorizer,TfidfTransformer\n",
        "from sklearn.decomposition import TruncatedSVD"
      ],
      "execution_count": 0,
      "outputs": []
    },
    {
      "cell_type": "code",
      "metadata": {
        "id": "k-golqZLx_W_",
        "colab_type": "code",
        "outputId": "80398881-0666-46ec-d5a3-91adeed4b600",
        "colab": {
          "base_uri": "https://localhost:8080/",
          "height": 71
        }
      },
      "source": [
        "from sklearn.model_selection import GridSearchCV,RandomizedSearchCV , StratifiedKFold\n",
        "from sklearn.preprocessing import Normalizer\n",
        "from sklearn.linear_model import LogisticRegression, SGDClassifier\n",
        "from sklearn.naive_bayes import MultinomialNB, GaussianNB, BernoulliNB\n",
        "from sklearn.tree import DecisionTreeClassifier#решающее дерево\n",
        "from sklearn.ensemble import BaggingClassifier\n",
        "from sklearn.pipeline import Pipeline, FeatureUnion\n",
        "from sklearn.ensemble import RandomForestClassifier#random tree\n",
        "from sklearn.neighbors import KNeighborsClassifier#k-NN\n",
        "import lightgbm as lgb#LightGBM \n",
        "from sklearn.ensemble import VotingClassifier\n",
        "from sklearn.metrics import roc_curve, f1_score, auc, accuracy_score, confusion_matrix, classification_report \n",
        "from scipy import interp\n",
        "from sklearn.svm import SVC\n",
        "import itertools\n",
        "from IPython.display import display\n",
        "from collections import defaultdict, Counter\n",
        "from sklearn.decomposition import NMF\n",
        "import seaborn as sns\n",
        "sns.set_style('white')"
      ],
      "execution_count": 0,
      "outputs": [
        {
          "output_type": "stream",
          "text": [
            "/usr/local/lib/python3.6/dist-packages/statsmodels/tools/_testing.py:19: FutureWarning: pandas.util.testing is deprecated. Use the functions in the public API at pandas.testing instead.\n",
            "  import pandas.util.testing as tm\n"
          ],
          "name": "stderr"
        }
      ]
    },
    {
      "cell_type": "markdown",
      "metadata": {
        "id": "I9ApL9YsvU1I",
        "colab_type": "text"
      },
      "source": [
        "**FIND PARAMETERS**"
      ]
    },
    {
      "cell_type": "code",
      "metadata": {
        "id": "lOpDGD7CyBet",
        "colab_type": "code",
        "colab": {}
      },
      "source": [
        "#Tìm parameter để kq tốt nhất\n",
        "#\n",
        "param_dist_naive = {}\n",
        "#\n",
        "C_svm= np.linspace(1,10,10)\n",
        "kernel =['rbf', 'poly', 'sigmoid']\n",
        "degree = [2,3,4,5]\n",
        "gamma = np.linspace(0,1,5)\n",
        "param_dist_svm ={'C':C_svm,'kernel':kernel, 'degree':degree, 'gamma':gamma}\n",
        "\n",
        "#2.parameters LogisticRegression\n",
        "C_lr= np.linspace(1,10,10)\n",
        "penalty =['l1', 'l2']\n",
        "param_dist_lr ={'C':C_lr,'penalty':penalty}\n",
        "\n",
        "#3. parameters DecisionTreeClassifier\n",
        "max_depth = np.arange(20, 60, 2)\n",
        "param_dist_dt ={'max_depth': max_depth}\n",
        "\n",
        "#4. parameters knn\n",
        "param_dist_knn = {'n_neighbors': np.arange(3,15,2), \n",
        "                  'weights':['uniform', 'distance'],\n",
        "                  'metric':['euclidean', 'manhattan']}\n",
        "\n",
        "#5. for LGBMClassifier\n",
        "param_dist_lgb = {\n",
        "          'learning_rate': np.arange(0.01, 0.1,0.02),\n",
        "          'n_estimators': np.arange(20,100,20),\n",
        "          'num_leaves':np.arange(50,150,20),\n",
        "          'max_depth':np.arange(7,9,1)\n",
        "}\n",
        "\n",
        "# run randomized search\n",
        "#random_search = RandomizedSearchCV(clf, param_distributions=param_dist,\n",
        "                                   #cv=5, iid=False)\n",
        "#viet ham tim parameters tot nhat\n",
        "def search_best_parameters(models, param_dists, X_train, y_train):\n",
        "    res_search = []\n",
        "    for model,param in zip(models,param_dists):\n",
        "        grid_search = GridSearchCV(model, param_grid=param, cv = 5, scoring = 'accuracy', n_jobs=-1)\n",
        "        grid_search.fit(X_train, y_train)\n",
        "        res_search.append(grid_search.best_estimator_)\n",
        "        #print(grid_search.best_estimator_)\n",
        "    return res_search"
      ],
      "execution_count": 0,
      "outputs": []
    },
    {
      "cell_type": "code",
      "metadata": {
        "id": "yH97sl4ke31J",
        "colab_type": "code",
        "colab": {}
      },
      "source": [
        "def classifier_comparison(x_train, y_train, x_test,y_test, vectorizer1,vectorizer2,vectorizer3,n_splits=3):#normalier\n",
        "    # Classifier names & initializations\n",
        "    names = [ \"Naive\",\"SVM\", \"LogisticRegression\",\" DecisionTreeClassifie\", \n",
        "             \"Nearest Neighbors\", \" LightGBM Classifier\"]\n",
        "  \n",
        "    classifiers = [\n",
        "        GaussianNB(),\n",
        "        SVC(probability=True),\n",
        "        LogisticRegression(),\n",
        "        DecisionTreeClassifier(),\n",
        "        KNeighborsClassifier(),\n",
        "        lgb.LGBMClassifier()\n",
        "        ]\n",
        "\n",
        "    # Split & shuffle data using Stratified K Fold\n",
        "    #kfold = StratifiedKFold(n_splits=n_splits, shuffle=True, random_state=21)\n",
        "\n",
        "    # Calculate accuracy, f1 & auc over all splits, classifiers\n",
        "    #count = 0\n",
        "    acc_dict = defaultdict(list)\n",
        "    f1_dict = defaultdict(list)\n",
        "    auc_dict = defaultdict(list)\n",
        "    '''\n",
        "    for train_index, test_index in kfold.split(x_train, y_train):\n",
        "        xtrain, ytrain = np.array(x_train)[train_index],np.array(y_train)[train_index]\n",
        "        xtest, ytest = np.array(x_train)[test_index], np.array(y_train)[test_index]\n",
        "        print('Iteration: ', count)\n",
        "     '''\n",
        "        # iterate over classifiers\n",
        "    for clf in classifiers:\n",
        "          pipeline = Pipeline([\n",
        "              ('count', vectorizer1),('vectorizer1', vectorizer2),('vectorizer2',vectorizer3),\n",
        "              ('classifier', clf)])\n",
        "          clf_name = clf.__class__.__name__\n",
        "          print('Fitting ', clf_name)\n",
        "          pipeline.fit(x_train, y_train)\n",
        "          predictions = pipeline.predict(x_test)\n",
        "          accuracy = accuracy_score(y_test, predictions)\n",
        "\n",
        "          # Store the predictions probability\n",
        "          predictions_prob = pipeline.predict_proba(x_test)[:, 1]\n",
        "\n",
        "          # Calculate False Positive rate, True Positive Rate, AUC Thresholds\n",
        "          fpr, tpr, auc_thresholds = roc_curve(y_test, predictions_prob)\n",
        "\n",
        "          # Append results in default dict of lists\n",
        "          acc_dict[clf_name].append(accuracy)\n",
        "          f1_dict[clf_name].append(\n",
        "              f1_score(y_test, predictions, average=None))\n",
        "          auc_dict[clf_name].append(auc(fpr, tpr))\n",
        "\n",
        "    #count += 1\n",
        "\n",
        "    return acc_dict, f1_dict, auc_dict"
      ],
      "execution_count": 0,
      "outputs": []
    },
    {
      "cell_type": "code",
      "metadata": {
        "id": "X7YshNFU7mAy",
        "colab_type": "code",
        "colab": {}
      },
      "source": [
        "def metric_avg(metric_dict):\n",
        "\n",
        "    # Dataframe containing classifier name & score\n",
        "    metric_df = pd.DataFrame.from_dict(metric_dict, orient='index')\n",
        "\n",
        "    #acc_df = acc_df.add_suffix('_Iteration')\n",
        "    metric_df.columns = [\n",
        "        str(col+1) + '_Iteration' for col in metric_df.columns]\n",
        "\n",
        "    # Flatten scores\n",
        "    metric_df = metric_df.applymap(lambda x: pd.Series(x).mean())\n",
        "\n",
        "    # Calculate average score\n",
        "    metric_df['avg'] = metric_df.mean(axis=1)\n",
        "\n",
        "    metric_df = (metric_df*100).round(2)\n",
        "\n",
        "    return metric_df\n",
        "\n",
        "# Plot metrices average\n",
        "\n",
        "\n",
        "def plot_metrics(sorted_acc_df, sorted_f1_df, sorted_auc_df):\n",
        "\n",
        "    nb_rows, nb_cols = 1, 3\n",
        "    fig, axes = plt.subplots(nb_rows, nb_cols, figsize=(18, 12))\n",
        "\n",
        "    # Plot metrices average\n",
        "\n",
        "    for ax, (metric, df) in zip(axes, zip(['Accuracy AVG', 'F1 AVG', 'AUC AVG'], [sorted_acc_df, sorted_f1_df, sorted_auc_df])):\n",
        "\n",
        "        # Plot a barplot containing classifier name & metrics i.e. accuracy, f1 score & auc\n",
        "        ax = sns.barplot(x='avg', y=df.index, ax=ax, data=df)\n",
        "        ax.set(xlabel=metric)\n",
        "        ax.set_xlim(df['avg'].max()-10, df['avg'].max()+10)\n",
        "        ax.set_yticklabels(ax.get_yticklabels(), rotation=45)\n",
        "\n",
        "    # Remove spines\n",
        "\n",
        "    sns.despine()"
      ],
      "execution_count": 0,
      "outputs": []
    },
    {
      "cell_type": "markdown",
      "metadata": {
        "id": "04OnmNCu8gwy",
        "colab_type": "text"
      },
      "source": [
        "**TFIDF-ngram = 1**"
      ]
    },
    {
      "cell_type": "code",
      "metadata": {
        "id": "tpuImrzrYpuC",
        "colab_type": "code",
        "colab": {}
      },
      "source": [
        "vec_tfidf = TfidfTransformer()\n",
        "vec_svd = TruncatedSVD(n_components=300, random_state=42)\n",
        "vec_count = CountVectorizer(ngram_range = (1,1))"
      ],
      "execution_count": 0,
      "outputs": []
    },
    {
      "cell_type": "markdown",
      "metadata": {
        "id": "FK7a_tEWVLuR",
        "colab_type": "text"
      },
      "source": [
        ""
      ]
    },
    {
      "cell_type": "code",
      "metadata": {
        "id": "E3YalcaDkShe",
        "colab_type": "code",
        "outputId": "a34c72ea-c1b4-453e-a6ff-9e5afcc3c5bc",
        "colab": {
          "base_uri": "https://localhost:8080/",
          "height": 153
        }
      },
      "source": [
        "%%time\n",
        "# Call the classifier_comparison module & save the results\n",
        "acc_dict_tfidf, f1_dict_tfidf, auc_dict_tfidf = classifier_comparison(X_train, y_train,X_test,y_test,vectorizer1=vec_count\n",
        "                                                    ,vectorizer2=vec_tfidf, vectorizer3=vec_svd, n_splits=3)"
      ],
      "execution_count": 0,
      "outputs": [
        {
          "output_type": "stream",
          "text": [
            "Fitting  GaussianNB\n",
            "Fitting  SVC\n",
            "Fitting  LogisticRegression\n",
            "Fitting  DecisionTreeClassifier\n",
            "Fitting  KNeighborsClassifier\n",
            "Fitting  LGBMClassifier\n",
            "CPU times: user 14 s, sys: 5.65 s, total: 19.7 s\n",
            "Wall time: 10.9 s\n"
          ],
          "name": "stdout"
        }
      ]
    },
    {
      "cell_type": "code",
      "metadata": {
        "id": "e1NphonC6Zqw",
        "colab_type": "code",
        "outputId": "c5260f70-8c75-4385-969f-e38a64ddd567",
        "colab": {
          "base_uri": "https://localhost:8080/",
          "height": 235
        }
      },
      "source": [
        "#accuracy metric\n",
        "acc_df = metric_avg(acc_dict_tfidf)\n",
        "sorted_acc_df = acc_df.sort_values(by='avg', ascending=False)\n",
        "display(sorted_acc_df)"
      ],
      "execution_count": 0,
      "outputs": [
        {
          "output_type": "display_data",
          "data": {
            "text/html": [
              "<div>\n",
              "<style scoped>\n",
              "    .dataframe tbody tr th:only-of-type {\n",
              "        vertical-align: middle;\n",
              "    }\n",
              "\n",
              "    .dataframe tbody tr th {\n",
              "        vertical-align: top;\n",
              "    }\n",
              "\n",
              "    .dataframe thead th {\n",
              "        text-align: right;\n",
              "    }\n",
              "</style>\n",
              "<table border=\"1\" class=\"dataframe\">\n",
              "  <thead>\n",
              "    <tr style=\"text-align: right;\">\n",
              "      <th></th>\n",
              "      <th>1_Iteration</th>\n",
              "      <th>avg</th>\n",
              "    </tr>\n",
              "  </thead>\n",
              "  <tbody>\n",
              "    <tr>\n",
              "      <th>SVC</th>\n",
              "      <td>91.49</td>\n",
              "      <td>91.49</td>\n",
              "    </tr>\n",
              "    <tr>\n",
              "      <th>LGBMClassifier</th>\n",
              "      <td>90.43</td>\n",
              "      <td>90.43</td>\n",
              "    </tr>\n",
              "    <tr>\n",
              "      <th>DecisionTreeClassifier</th>\n",
              "      <td>86.17</td>\n",
              "      <td>86.17</td>\n",
              "    </tr>\n",
              "    <tr>\n",
              "      <th>KNeighborsClassifier</th>\n",
              "      <td>86.17</td>\n",
              "      <td>86.17</td>\n",
              "    </tr>\n",
              "    <tr>\n",
              "      <th>LogisticRegression</th>\n",
              "      <td>77.66</td>\n",
              "      <td>77.66</td>\n",
              "    </tr>\n",
              "    <tr>\n",
              "      <th>GaussianNB</th>\n",
              "      <td>74.47</td>\n",
              "      <td>74.47</td>\n",
              "    </tr>\n",
              "  </tbody>\n",
              "</table>\n",
              "</div>"
            ],
            "text/plain": [
              "                        1_Iteration    avg\n",
              "SVC                           91.49  91.49\n",
              "LGBMClassifier                90.43  90.43\n",
              "DecisionTreeClassifier        86.17  86.17\n",
              "KNeighborsClassifier          86.17  86.17\n",
              "LogisticRegression            77.66  77.66\n",
              "GaussianNB                    74.47  74.47"
            ]
          },
          "metadata": {
            "tags": []
          }
        }
      ]
    },
    {
      "cell_type": "code",
      "metadata": {
        "id": "0UU4H99XNcB5",
        "colab_type": "code",
        "outputId": "2e524ec7-8ccc-468c-ab39-048869591956",
        "colab": {
          "base_uri": "https://localhost:8080/",
          "height": 235
        }
      },
      "source": [
        "# F1 Score of different classifiers\n",
        "f1_df = metric_avg(f1_dict_tfidf)\n",
        "sorted_f1_df = f1_df.sort_values(by='avg', ascending=False)\n",
        "display(sorted_f1_df)"
      ],
      "execution_count": 0,
      "outputs": [
        {
          "output_type": "display_data",
          "data": {
            "text/html": [
              "<div>\n",
              "<style scoped>\n",
              "    .dataframe tbody tr th:only-of-type {\n",
              "        vertical-align: middle;\n",
              "    }\n",
              "\n",
              "    .dataframe tbody tr th {\n",
              "        vertical-align: top;\n",
              "    }\n",
              "\n",
              "    .dataframe thead th {\n",
              "        text-align: right;\n",
              "    }\n",
              "</style>\n",
              "<table border=\"1\" class=\"dataframe\">\n",
              "  <thead>\n",
              "    <tr style=\"text-align: right;\">\n",
              "      <th></th>\n",
              "      <th>1_Iteration</th>\n",
              "      <th>avg</th>\n",
              "    </tr>\n",
              "  </thead>\n",
              "  <tbody>\n",
              "    <tr>\n",
              "      <th>SVC</th>\n",
              "      <td>91.09</td>\n",
              "      <td>91.09</td>\n",
              "    </tr>\n",
              "    <tr>\n",
              "      <th>LGBMClassifier</th>\n",
              "      <td>90.18</td>\n",
              "      <td>90.18</td>\n",
              "    </tr>\n",
              "    <tr>\n",
              "      <th>DecisionTreeClassifier</th>\n",
              "      <td>86.04</td>\n",
              "      <td>86.04</td>\n",
              "    </tr>\n",
              "    <tr>\n",
              "      <th>KNeighborsClassifier</th>\n",
              "      <td>85.70</td>\n",
              "      <td>85.70</td>\n",
              "    </tr>\n",
              "    <tr>\n",
              "      <th>LogisticRegression</th>\n",
              "      <td>73.56</td>\n",
              "      <td>73.56</td>\n",
              "    </tr>\n",
              "    <tr>\n",
              "      <th>GaussianNB</th>\n",
              "      <td>69.48</td>\n",
              "      <td>69.48</td>\n",
              "    </tr>\n",
              "  </tbody>\n",
              "</table>\n",
              "</div>"
            ],
            "text/plain": [
              "                        1_Iteration    avg\n",
              "SVC                           91.09  91.09\n",
              "LGBMClassifier                90.18  90.18\n",
              "DecisionTreeClassifier        86.04  86.04\n",
              "KNeighborsClassifier          85.70  85.70\n",
              "LogisticRegression            73.56  73.56\n",
              "GaussianNB                    69.48  69.48"
            ]
          },
          "metadata": {
            "tags": []
          }
        }
      ]
    },
    {
      "cell_type": "code",
      "metadata": {
        "id": "Vyg4u341NuDd",
        "colab_type": "code",
        "outputId": "04ec5bb2-d9a3-4ccc-f653-6d389cd9dcc0",
        "colab": {
          "base_uri": "https://localhost:8080/",
          "height": 235
        }
      },
      "source": [
        "# Area under Curve (AUC) of different classifiers\n",
        "auc_df = metric_avg(auc_dict_tfidf)\n",
        "sorted_auc_df = auc_df.sort_values(by='avg', ascending=False)\n",
        "display(sorted_auc_df)"
      ],
      "execution_count": 0,
      "outputs": [
        {
          "output_type": "display_data",
          "data": {
            "text/html": [
              "<div>\n",
              "<style scoped>\n",
              "    .dataframe tbody tr th:only-of-type {\n",
              "        vertical-align: middle;\n",
              "    }\n",
              "\n",
              "    .dataframe tbody tr th {\n",
              "        vertical-align: top;\n",
              "    }\n",
              "\n",
              "    .dataframe thead th {\n",
              "        text-align: right;\n",
              "    }\n",
              "</style>\n",
              "<table border=\"1\" class=\"dataframe\">\n",
              "  <thead>\n",
              "    <tr style=\"text-align: right;\">\n",
              "      <th></th>\n",
              "      <th>1_Iteration</th>\n",
              "      <th>avg</th>\n",
              "    </tr>\n",
              "  </thead>\n",
              "  <tbody>\n",
              "    <tr>\n",
              "      <th>SVC</th>\n",
              "      <td>96.92</td>\n",
              "      <td>96.92</td>\n",
              "    </tr>\n",
              "    <tr>\n",
              "      <th>LogisticRegression</th>\n",
              "      <td>96.69</td>\n",
              "      <td>96.69</td>\n",
              "    </tr>\n",
              "    <tr>\n",
              "      <th>LGBMClassifier</th>\n",
              "      <td>96.27</td>\n",
              "      <td>96.27</td>\n",
              "    </tr>\n",
              "    <tr>\n",
              "      <th>KNeighborsClassifier</th>\n",
              "      <td>92.82</td>\n",
              "      <td>92.82</td>\n",
              "    </tr>\n",
              "    <tr>\n",
              "      <th>DecisionTreeClassifier</th>\n",
              "      <td>87.06</td>\n",
              "      <td>87.06</td>\n",
              "    </tr>\n",
              "    <tr>\n",
              "      <th>GaussianNB</th>\n",
              "      <td>77.86</td>\n",
              "      <td>77.86</td>\n",
              "    </tr>\n",
              "  </tbody>\n",
              "</table>\n",
              "</div>"
            ],
            "text/plain": [
              "                        1_Iteration    avg\n",
              "SVC                           96.92  96.92\n",
              "LogisticRegression            96.69  96.69\n",
              "LGBMClassifier                96.27  96.27\n",
              "KNeighborsClassifier          92.82  92.82\n",
              "DecisionTreeClassifier        87.06  87.06\n",
              "GaussianNB                    77.86  77.86"
            ]
          },
          "metadata": {
            "tags": []
          }
        }
      ]
    },
    {
      "cell_type": "code",
      "metadata": {
        "id": "oGgbQJc5OqRE",
        "colab_type": "code",
        "outputId": "d1ddb841-00a7-42e0-eacf-636ef9c1ded7",
        "colab": {
          "base_uri": "https://localhost:8080/",
          "height": 546
        }
      },
      "source": [
        "plot_metrics(sorted_acc_df, sorted_f1_df, sorted_auc_df)"
      ],
      "execution_count": 0,
      "outputs": [
        {
          "output_type": "display_data",
          "data": {
            "image/png": "[encoded data removed]",
            "text/plain": [
              "<Figure size 1296x864 with 3 Axes>"
            ]
          },
          "metadata": {
            "tags": []
          }
        }
      ]
    },
    {
      "cell_type": "markdown",
      "metadata": {
        "id": "gf9cTdKwOc-4",
        "colab_type": "text"
      },
      "source": [
        "**TFIDF-SDV-word, ngram**\n",
        "\n"
      ]
    },
    {
      "cell_type": "code",
      "metadata": {
        "id": "ejC0dZgbOcNM",
        "colab_type": "code",
        "outputId": "c5f61608-08a6-4976-c3b2-0d475abc4703",
        "colab": {
          "base_uri": "https://localhost:8080/",
          "height": 153
        }
      },
      "source": [
        "%%time\n",
        "ngram_count = CountVectorizer(analyzer='word',ngram_range=(2,2))\n",
        "acc_dict_ngram, f1_dict_ngram, auc_dict_ngram = classifier_comparison(X_train, y_train,X_test,y_test, \n",
        "                                                    vectorizer1=ngram_count, vectorizer2=vec_tfidf, vectorizer3=vec_svd, n_splits=3)"
      ],
      "execution_count": 0,
      "outputs": [
        {
          "output_type": "stream",
          "text": [
            "Fitting  GaussianNB\n",
            "Fitting  SVC\n",
            "Fitting  LogisticRegression\n",
            "Fitting  DecisionTreeClassifier\n",
            "Fitting  KNeighborsClassifier\n",
            "Fitting  LGBMClassifier\n",
            "CPU times: user 1min 15s, sys: 16.5 s, total: 1min 32s\n",
            "Wall time: 54.1 s\n"
          ],
          "name": "stdout"
        }
      ]
    },
    {
      "cell_type": "code",
      "metadata": {
        "id": "7yZiNmeWWUcc",
        "colab_type": "code",
        "outputId": "09aacf28-fbd5-4c14-fc21-ed7f78041bc0",
        "colab": {
          "base_uri": "https://localhost:8080/",
          "height": 235
        }
      },
      "source": [
        "#accuracy metric\n",
        "acc_df2 = metric_avg(acc_dict_ngram)\n",
        "sorted_acc_df2 = acc_df2.sort_values(by='avg', ascending=False)\n",
        "display(sorted_acc_df2)"
      ],
      "execution_count": 0,
      "outputs": [
        {
          "output_type": "display_data",
          "data": {
            "text/html": [
              "<div>\n",
              "<style scoped>\n",
              "    .dataframe tbody tr th:only-of-type {\n",
              "        vertical-align: middle;\n",
              "    }\n",
              "\n",
              "    .dataframe tbody tr th {\n",
              "        vertical-align: top;\n",
              "    }\n",
              "\n",
              "    .dataframe thead th {\n",
              "        text-align: right;\n",
              "    }\n",
              "</style>\n",
              "<table border=\"1\" class=\"dataframe\">\n",
              "  <thead>\n",
              "    <tr style=\"text-align: right;\">\n",
              "      <th></th>\n",
              "      <th>1_Iteration</th>\n",
              "      <th>avg</th>\n",
              "    </tr>\n",
              "  </thead>\n",
              "  <tbody>\n",
              "    <tr>\n",
              "      <th>LGBMClassifier</th>\n",
              "      <td>88.30</td>\n",
              "      <td>88.30</td>\n",
              "    </tr>\n",
              "    <tr>\n",
              "      <th>KNeighborsClassifier</th>\n",
              "      <td>86.17</td>\n",
              "      <td>86.17</td>\n",
              "    </tr>\n",
              "    <tr>\n",
              "      <th>DecisionTreeClassifier</th>\n",
              "      <td>74.47</td>\n",
              "      <td>74.47</td>\n",
              "    </tr>\n",
              "    <tr>\n",
              "      <th>SVC</th>\n",
              "      <td>69.15</td>\n",
              "      <td>69.15</td>\n",
              "    </tr>\n",
              "    <tr>\n",
              "      <th>GaussianNB</th>\n",
              "      <td>61.70</td>\n",
              "      <td>61.70</td>\n",
              "    </tr>\n",
              "    <tr>\n",
              "      <th>LogisticRegression</th>\n",
              "      <td>59.57</td>\n",
              "      <td>59.57</td>\n",
              "    </tr>\n",
              "  </tbody>\n",
              "</table>\n",
              "</div>"
            ],
            "text/plain": [
              "                        1_Iteration    avg\n",
              "LGBMClassifier                88.30  88.30\n",
              "KNeighborsClassifier          86.17  86.17\n",
              "DecisionTreeClassifier        74.47  74.47\n",
              "SVC                           69.15  69.15\n",
              "GaussianNB                    61.70  61.70\n",
              "LogisticRegression            59.57  59.57"
            ]
          },
          "metadata": {
            "tags": []
          }
        }
      ]
    },
    {
      "cell_type": "code",
      "metadata": {
        "id": "ABX-cLNrWaX6",
        "colab_type": "code",
        "outputId": "e5447783-c4ae-48bd-94d8-76524cdec6bb",
        "colab": {
          "base_uri": "https://localhost:8080/",
          "height": 235
        }
      },
      "source": [
        "\n",
        "# F1 Score of different classifiers\n",
        "f1_df2 = metric_avg(f1_dict_ngram)\n",
        "sorted_f1_df2 = f1_df2.sort_values(by='avg', ascending=False)\n",
        "display(sorted_f1_df2)"
      ],
      "execution_count": 0,
      "outputs": [
        {
          "output_type": "display_data",
          "data": {
            "text/html": [
              "<div>\n",
              "<style scoped>\n",
              "    .dataframe tbody tr th:only-of-type {\n",
              "        vertical-align: middle;\n",
              "    }\n",
              "\n",
              "    .dataframe tbody tr th {\n",
              "        vertical-align: top;\n",
              "    }\n",
              "\n",
              "    .dataframe thead th {\n",
              "        text-align: right;\n",
              "    }\n",
              "</style>\n",
              "<table border=\"1\" class=\"dataframe\">\n",
              "  <thead>\n",
              "    <tr style=\"text-align: right;\">\n",
              "      <th></th>\n",
              "      <th>1_Iteration</th>\n",
              "      <th>avg</th>\n",
              "    </tr>\n",
              "  </thead>\n",
              "  <tbody>\n",
              "    <tr>\n",
              "      <th>LGBMClassifier</th>\n",
              "      <td>87.90</td>\n",
              "      <td>87.90</td>\n",
              "    </tr>\n",
              "    <tr>\n",
              "      <th>KNeighborsClassifier</th>\n",
              "      <td>85.70</td>\n",
              "      <td>85.70</td>\n",
              "    </tr>\n",
              "    <tr>\n",
              "      <th>DecisionTreeClassifier</th>\n",
              "      <td>70.62</td>\n",
              "      <td>70.62</td>\n",
              "    </tr>\n",
              "    <tr>\n",
              "      <th>GaussianNB</th>\n",
              "      <td>61.26</td>\n",
              "      <td>61.26</td>\n",
              "    </tr>\n",
              "    <tr>\n",
              "      <th>SVC</th>\n",
              "      <td>59.98</td>\n",
              "      <td>59.98</td>\n",
              "    </tr>\n",
              "    <tr>\n",
              "      <th>LogisticRegression</th>\n",
              "      <td>39.66</td>\n",
              "      <td>39.66</td>\n",
              "    </tr>\n",
              "  </tbody>\n",
              "</table>\n",
              "</div>"
            ],
            "text/plain": [
              "                        1_Iteration    avg\n",
              "LGBMClassifier                87.90  87.90\n",
              "KNeighborsClassifier          85.70  85.70\n",
              "DecisionTreeClassifier        70.62  70.62\n",
              "GaussianNB                    61.26  61.26\n",
              "SVC                           59.98  59.98\n",
              "LogisticRegression            39.66  39.66"
            ]
          },
          "metadata": {
            "tags": []
          }
        }
      ]
    },
    {
      "cell_type": "code",
      "metadata": {
        "id": "t-slqAhPWgV9",
        "colab_type": "code",
        "outputId": "1e00fca2-f5f8-4ed7-dceb-b8feec1fefe8",
        "colab": {
          "base_uri": "https://localhost:8080/",
          "height": 235
        }
      },
      "source": [
        "# Area under Curve (AUC) of different classifiers\n",
        "\n",
        "auc_df2 = metric_avg(auc_dict_tfidf)\n",
        "sorted_auc_df2 = auc_df2.sort_values(by='avg', ascending=False)\n",
        "display(sorted_auc_df2)"
      ],
      "execution_count": 0,
      "outputs": [
        {
          "output_type": "display_data",
          "data": {
            "text/html": [
              "<div>\n",
              "<style scoped>\n",
              "    .dataframe tbody tr th:only-of-type {\n",
              "        vertical-align: middle;\n",
              "    }\n",
              "\n",
              "    .dataframe tbody tr th {\n",
              "        vertical-align: top;\n",
              "    }\n",
              "\n",
              "    .dataframe thead th {\n",
              "        text-align: right;\n",
              "    }\n",
              "</style>\n",
              "<table border=\"1\" class=\"dataframe\">\n",
              "  <thead>\n",
              "    <tr style=\"text-align: right;\">\n",
              "      <th></th>\n",
              "      <th>1_Iteration</th>\n",
              "      <th>avg</th>\n",
              "    </tr>\n",
              "  </thead>\n",
              "  <tbody>\n",
              "    <tr>\n",
              "      <th>SVC</th>\n",
              "      <td>96.92</td>\n",
              "      <td>96.92</td>\n",
              "    </tr>\n",
              "    <tr>\n",
              "      <th>LogisticRegression</th>\n",
              "      <td>96.69</td>\n",
              "      <td>96.69</td>\n",
              "    </tr>\n",
              "    <tr>\n",
              "      <th>LGBMClassifier</th>\n",
              "      <td>96.27</td>\n",
              "      <td>96.27</td>\n",
              "    </tr>\n",
              "    <tr>\n",
              "      <th>KNeighborsClassifier</th>\n",
              "      <td>92.82</td>\n",
              "      <td>92.82</td>\n",
              "    </tr>\n",
              "    <tr>\n",
              "      <th>DecisionTreeClassifier</th>\n",
              "      <td>87.06</td>\n",
              "      <td>87.06</td>\n",
              "    </tr>\n",
              "    <tr>\n",
              "      <th>GaussianNB</th>\n",
              "      <td>77.86</td>\n",
              "      <td>77.86</td>\n",
              "    </tr>\n",
              "  </tbody>\n",
              "</table>\n",
              "</div>"
            ],
            "text/plain": [
              "                        1_Iteration    avg\n",
              "SVC                           96.92  96.92\n",
              "LogisticRegression            96.69  96.69\n",
              "LGBMClassifier                96.27  96.27\n",
              "KNeighborsClassifier          92.82  92.82\n",
              "DecisionTreeClassifier        87.06  87.06\n",
              "GaussianNB                    77.86  77.86"
            ]
          },
          "metadata": {
            "tags": []
          }
        }
      ]
    },
    {
      "cell_type": "code",
      "metadata": {
        "id": "dxDqZLtFZQ_6",
        "colab_type": "code",
        "outputId": "587b0d3a-57cb-48ac-e035-c0e5fcfc9d07",
        "colab": {
          "base_uri": "https://localhost:8080/",
          "height": 546
        }
      },
      "source": [
        "plot_metrics(sorted_acc_df2, sorted_f1_df2, sorted_auc_df2)"
      ],
      "execution_count": 0,
      "outputs": [
        {
          "output_type": "display_data",
          "data": {
            "image/png": "[encoded data removed]",
            "text/plain": [
              "<Figure size 1296x864 with 3 Axes>"
            ]
          },
          "metadata": {
            "tags": []
          }
        }
      ]
    },
    {
      "cell_type": "code",
      "metadata": {
        "id": "P1NeDjwnZLO-",
        "colab_type": "code",
        "outputId": "f393f4a5-771d-44ed-c95d-a7c20d879fc9",
        "colab": {
          "base_uri": "https://localhost:8080/",
          "height": 153
        }
      },
      "source": [
        "%%time\n",
        "ngram_count3 = CountVectorizer(analyzer='word',ngram_range=(3,3))\n",
        "acc_dict_ngram3, f1_dict_ngram3, auc_dict_ngram3 = classifier_comparison(X_train, y_train,X_test,y_test, \n",
        "                                                    vectorizer1=ngram_count3, vectorizer2=vec_tfidf, vectorizer3=vec_svd, n_splits=3)"
      ],
      "execution_count": 0,
      "outputs": [
        {
          "output_type": "stream",
          "text": [
            "Fitting  GaussianNB\n",
            "Fitting  SVC\n",
            "Fitting  LogisticRegression\n",
            "Fitting  DecisionTreeClassifier\n",
            "Fitting  KNeighborsClassifier\n",
            "Fitting  LGBMClassifier\n",
            "CPU times: user 1min 35s, sys: 18 s, total: 1min 53s\n",
            "Wall time: 1min 6s\n"
          ],
          "name": "stdout"
        }
      ]
    },
    {
      "cell_type": "code",
      "metadata": {
        "id": "d9LLa295ZLnc",
        "colab_type": "code",
        "outputId": "ede5c42e-d461-41f3-8afe-373d8d38024e",
        "colab": {
          "base_uri": "https://localhost:8080/",
          "height": 671
        }
      },
      "source": [
        "acc_df3_w = metric_avg(acc_dict_ngram3)\n",
        "sorted_acc_df3_w = acc_df3_w.sort_values(by='avg', ascending=False)\n",
        "display(sorted_acc_df3_w)\n",
        "\n",
        "f1_df3_w = metric_avg(f1_dict_ngram3)\n",
        "sorted_f1_df3_w = f1_df3_w.sort_values(by='avg', ascending=False)\n",
        "display(sorted_f1_df3_w)\n",
        "\n",
        "auc_df3_w = metric_avg(auc_dict_ngram3)\n",
        "sorted_auc_df3_w = auc_df3_w.sort_values(by='avg', ascending=False)\n",
        "display(sorted_auc_df3_w)"
      ],
      "execution_count": 0,
      "outputs": [
        {
          "output_type": "display_data",
          "data": {
            "text/html": [
              "<div>\n",
              "<style scoped>\n",
              "    .dataframe tbody tr th:only-of-type {\n",
              "        vertical-align: middle;\n",
              "    }\n",
              "\n",
              "    .dataframe tbody tr th {\n",
              "        vertical-align: top;\n",
              "    }\n",
              "\n",
              "    .dataframe thead th {\n",
              "        text-align: right;\n",
              "    }\n",
              "</style>\n",
              "<table border=\"1\" class=\"dataframe\">\n",
              "  <thead>\n",
              "    <tr style=\"text-align: right;\">\n",
              "      <th></th>\n",
              "      <th>1_Iteration</th>\n",
              "      <th>avg</th>\n",
              "    </tr>\n",
              "  </thead>\n",
              "  <tbody>\n",
              "    <tr>\n",
              "      <th>KNeighborsClassifier</th>\n",
              "      <td>71.28</td>\n",
              "      <td>71.28</td>\n",
              "    </tr>\n",
              "    <tr>\n",
              "      <th>DecisionTreeClassifier</th>\n",
              "      <td>63.83</td>\n",
              "      <td>63.83</td>\n",
              "    </tr>\n",
              "    <tr>\n",
              "      <th>LGBMClassifier</th>\n",
              "      <td>63.83</td>\n",
              "      <td>63.83</td>\n",
              "    </tr>\n",
              "    <tr>\n",
              "      <th>GaussianNB</th>\n",
              "      <td>61.70</td>\n",
              "      <td>61.70</td>\n",
              "    </tr>\n",
              "    <tr>\n",
              "      <th>SVC</th>\n",
              "      <td>58.51</td>\n",
              "      <td>58.51</td>\n",
              "    </tr>\n",
              "    <tr>\n",
              "      <th>LogisticRegression</th>\n",
              "      <td>58.51</td>\n",
              "      <td>58.51</td>\n",
              "    </tr>\n",
              "  </tbody>\n",
              "</table>\n",
              "</div>"
            ],
            "text/plain": [
              "                        1_Iteration    avg\n",
              "KNeighborsClassifier          71.28  71.28\n",
              "DecisionTreeClassifier        63.83  63.83\n",
              "LGBMClassifier                63.83  63.83\n",
              "GaussianNB                    61.70  61.70\n",
              "SVC                           58.51  58.51\n",
              "LogisticRegression            58.51  58.51"
            ]
          },
          "metadata": {
            "tags": []
          }
        },
        {
          "output_type": "display_data",
          "data": {
            "text/html": [
              "<div>\n",
              "<style scoped>\n",
              "    .dataframe tbody tr th:only-of-type {\n",
              "        vertical-align: middle;\n",
              "    }\n",
              "\n",
              "    .dataframe tbody tr th {\n",
              "        vertical-align: top;\n",
              "    }\n",
              "\n",
              "    .dataframe thead th {\n",
              "        text-align: right;\n",
              "    }\n",
              "</style>\n",
              "<table border=\"1\" class=\"dataframe\">\n",
              "  <thead>\n",
              "    <tr style=\"text-align: right;\">\n",
              "      <th></th>\n",
              "      <th>1_Iteration</th>\n",
              "      <th>avg</th>\n",
              "    </tr>\n",
              "  </thead>\n",
              "  <tbody>\n",
              "    <tr>\n",
              "      <th>KNeighborsClassifier</th>\n",
              "      <td>64.53</td>\n",
              "      <td>64.53</td>\n",
              "    </tr>\n",
              "    <tr>\n",
              "      <th>DecisionTreeClassifier</th>\n",
              "      <td>63.01</td>\n",
              "      <td>63.01</td>\n",
              "    </tr>\n",
              "    <tr>\n",
              "      <th>GaussianNB</th>\n",
              "      <td>61.26</td>\n",
              "      <td>61.26</td>\n",
              "    </tr>\n",
              "    <tr>\n",
              "      <th>LGBMClassifier</th>\n",
              "      <td>58.39</td>\n",
              "      <td>58.39</td>\n",
              "    </tr>\n",
              "    <tr>\n",
              "      <th>SVC</th>\n",
              "      <td>36.91</td>\n",
              "      <td>36.91</td>\n",
              "    </tr>\n",
              "    <tr>\n",
              "      <th>LogisticRegression</th>\n",
              "      <td>36.91</td>\n",
              "      <td>36.91</td>\n",
              "    </tr>\n",
              "  </tbody>\n",
              "</table>\n",
              "</div>"
            ],
            "text/plain": [
              "                        1_Iteration    avg\n",
              "KNeighborsClassifier          64.53  64.53\n",
              "DecisionTreeClassifier        63.01  63.01\n",
              "GaussianNB                    61.26  61.26\n",
              "LGBMClassifier                58.39  58.39\n",
              "SVC                           36.91  36.91\n",
              "LogisticRegression            36.91  36.91"
            ]
          },
          "metadata": {
            "tags": []
          }
        },
        {
          "output_type": "display_data",
          "data": {
            "text/html": [
              "<div>\n",
              "<style scoped>\n",
              "    .dataframe tbody tr th:only-of-type {\n",
              "        vertical-align: middle;\n",
              "    }\n",
              "\n",
              "    .dataframe tbody tr th {\n",
              "        vertical-align: top;\n",
              "    }\n",
              "\n",
              "    .dataframe thead th {\n",
              "        text-align: right;\n",
              "    }\n",
              "</style>\n",
              "<table border=\"1\" class=\"dataframe\">\n",
              "  <thead>\n",
              "    <tr style=\"text-align: right;\">\n",
              "      <th></th>\n",
              "      <th>1_Iteration</th>\n",
              "      <th>avg</th>\n",
              "    </tr>\n",
              "  </thead>\n",
              "  <tbody>\n",
              "    <tr>\n",
              "      <th>LogisticRegression</th>\n",
              "      <td>87.97</td>\n",
              "      <td>87.97</td>\n",
              "    </tr>\n",
              "    <tr>\n",
              "      <th>SVC</th>\n",
              "      <td>87.74</td>\n",
              "      <td>87.74</td>\n",
              "    </tr>\n",
              "    <tr>\n",
              "      <th>KNeighborsClassifier</th>\n",
              "      <td>84.90</td>\n",
              "      <td>84.90</td>\n",
              "    </tr>\n",
              "    <tr>\n",
              "      <th>LGBMClassifier</th>\n",
              "      <td>73.24</td>\n",
              "      <td>73.24</td>\n",
              "    </tr>\n",
              "    <tr>\n",
              "      <th>GaussianNB</th>\n",
              "      <td>68.11</td>\n",
              "      <td>68.11</td>\n",
              "    </tr>\n",
              "    <tr>\n",
              "      <th>DecisionTreeClassifier</th>\n",
              "      <td>63.12</td>\n",
              "      <td>63.12</td>\n",
              "    </tr>\n",
              "  </tbody>\n",
              "</table>\n",
              "</div>"
            ],
            "text/plain": [
              "                        1_Iteration    avg\n",
              "LogisticRegression            87.97  87.97\n",
              "SVC                           87.74  87.74\n",
              "KNeighborsClassifier          84.90  84.90\n",
              "LGBMClassifier                73.24  73.24\n",
              "GaussianNB                    68.11  68.11\n",
              "DecisionTreeClassifier        63.12  63.12"
            ]
          },
          "metadata": {
            "tags": []
          }
        }
      ]
    },
    {
      "cell_type": "code",
      "metadata": {
        "id": "KZn-mT67ZLuA",
        "colab_type": "code",
        "outputId": "004e90cd-31ef-4571-c7dd-a46bc769b9dc",
        "colab": {
          "base_uri": "https://localhost:8080/",
          "height": 544
        }
      },
      "source": [
        "plot_metrics(sorted_acc_df3_w, sorted_f1_df3_w, sorted_auc_df3_w)"
      ],
      "execution_count": 0,
      "outputs": [
        {
          "output_type": "display_data",
          "data": {
            "image/png": "[encoded data removed]",
            "text/plain": [
              "<Figure size 1296x864 with 3 Axes>"
            ]
          },
          "metadata": {
            "tags": []
          }
        }
      ]
    },
    {
      "cell_type": "markdown",
      "metadata": {
        "id": "MZTnTgYUSIK2",
        "colab_type": "text"
      },
      "source": [
        "**TFIDF-SDV-char ngram **"
      ]
    },
    {
      "cell_type": "code",
      "metadata": {
        "id": "geW_lfxMSUEU",
        "colab_type": "code",
        "outputId": "57770f2c-3ceb-4d97-a0aa-3219eb8ac7a8",
        "colab": {
          "base_uri": "https://localhost:8080/",
          "height": 153
        }
      },
      "source": [
        "%%time\n",
        "ngram_char_count = CountVectorizer(analyzer='char', ngram_range=(1, 4))\n",
        "acc_dict_ngramchar_tfidf, f1_dict_ngramchar_tfidf, auc_dict_ngramchar_tfidf = classifier_comparison(X_train, y_train,\n",
        "                                                    X_test,y_test,vectorizer1=ngram_char_count,vectorizer2=vec_tfidf, vectorizer3=vec_svd, n_splits=3)"
      ],
      "execution_count": 0,
      "outputs": [
        {
          "output_type": "stream",
          "text": [
            "Fitting  GaussianNB\n",
            "Fitting  SVC\n",
            "Fitting  LogisticRegression\n",
            "Fitting  DecisionTreeClassifier\n",
            "Fitting  KNeighborsClassifier\n",
            "Fitting  LGBMClassifier\n",
            "CPU times: user 1min 54s, sys: 16.2 s, total: 2min 10s\n",
            "Wall time: 1min 31s\n"
          ],
          "name": "stdout"
        }
      ]
    },
    {
      "cell_type": "code",
      "metadata": {
        "id": "63VO9gW5Wuth",
        "colab_type": "code",
        "outputId": "d7dc0e48-5f37-429f-b45b-1e9069d4a08c",
        "colab": {
          "base_uri": "https://localhost:8080/",
          "height": 235
        }
      },
      "source": [
        "#accuracy metric\n",
        "acc_df3 = metric_avg(acc_dict_ngramchar_tfidf)\n",
        "sorted_acc_df3 = acc_df3.sort_values(by='avg', ascending=False)\n",
        "display(sorted_acc_df3)"
      ],
      "execution_count": 0,
      "outputs": [
        {
          "output_type": "display_data",
          "data": {
            "text/html": [
              "<div>\n",
              "<style scoped>\n",
              "    .dataframe tbody tr th:only-of-type {\n",
              "        vertical-align: middle;\n",
              "    }\n",
              "\n",
              "    .dataframe tbody tr th {\n",
              "        vertical-align: top;\n",
              "    }\n",
              "\n",
              "    .dataframe thead th {\n",
              "        text-align: right;\n",
              "    }\n",
              "</style>\n",
              "<table border=\"1\" class=\"dataframe\">\n",
              "  <thead>\n",
              "    <tr style=\"text-align: right;\">\n",
              "      <th></th>\n",
              "      <th>1_Iteration</th>\n",
              "      <th>avg</th>\n",
              "    </tr>\n",
              "  </thead>\n",
              "  <tbody>\n",
              "    <tr>\n",
              "      <th>LGBMClassifier</th>\n",
              "      <td>89.36</td>\n",
              "      <td>89.36</td>\n",
              "    </tr>\n",
              "    <tr>\n",
              "      <th>SVC</th>\n",
              "      <td>88.30</td>\n",
              "      <td>88.30</td>\n",
              "    </tr>\n",
              "    <tr>\n",
              "      <th>DecisionTreeClassifier</th>\n",
              "      <td>74.47</td>\n",
              "      <td>74.47</td>\n",
              "    </tr>\n",
              "    <tr>\n",
              "      <th>LogisticRegression</th>\n",
              "      <td>67.02</td>\n",
              "      <td>67.02</td>\n",
              "    </tr>\n",
              "    <tr>\n",
              "      <th>KNeighborsClassifier</th>\n",
              "      <td>67.02</td>\n",
              "      <td>67.02</td>\n",
              "    </tr>\n",
              "    <tr>\n",
              "      <th>GaussianNB</th>\n",
              "      <td>59.57</td>\n",
              "      <td>59.57</td>\n",
              "    </tr>\n",
              "  </tbody>\n",
              "</table>\n",
              "</div>"
            ],
            "text/plain": [
              "                        1_Iteration    avg\n",
              "LGBMClassifier                89.36  89.36\n",
              "SVC                           88.30  88.30\n",
              "DecisionTreeClassifier        74.47  74.47\n",
              "LogisticRegression            67.02  67.02\n",
              "KNeighborsClassifier          67.02  67.02\n",
              "GaussianNB                    59.57  59.57"
            ]
          },
          "metadata": {
            "tags": []
          }
        }
      ]
    },
    {
      "cell_type": "code",
      "metadata": {
        "id": "4IJODdyWWqBh",
        "colab_type": "code",
        "outputId": "e1d1c1fd-1308-47b9-c1aa-69fc0682541b",
        "colab": {
          "base_uri": "https://localhost:8080/",
          "height": 235
        }
      },
      "source": [
        "# F1 Score of different classifiers\n",
        "f1_df3 = metric_avg(f1_dict_ngramchar_tfidf)\n",
        "sorted_f1_df3 = f1_df3.sort_values(by='avg', ascending=False)\n",
        "display(sorted_f1_df3)"
      ],
      "execution_count": 0,
      "outputs": [
        {
          "output_type": "display_data",
          "data": {
            "text/html": [
              "<div>\n",
              "<style scoped>\n",
              "    .dataframe tbody tr th:only-of-type {\n",
              "        vertical-align: middle;\n",
              "    }\n",
              "\n",
              "    .dataframe tbody tr th {\n",
              "        vertical-align: top;\n",
              "    }\n",
              "\n",
              "    .dataframe thead th {\n",
              "        text-align: right;\n",
              "    }\n",
              "</style>\n",
              "<table border=\"1\" class=\"dataframe\">\n",
              "  <thead>\n",
              "    <tr style=\"text-align: right;\">\n",
              "      <th></th>\n",
              "      <th>1_Iteration</th>\n",
              "      <th>avg</th>\n",
              "    </tr>\n",
              "  </thead>\n",
              "  <tbody>\n",
              "    <tr>\n",
              "      <th>LGBMClassifier</th>\n",
              "      <td>88.48</td>\n",
              "      <td>88.48</td>\n",
              "    </tr>\n",
              "    <tr>\n",
              "      <th>SVC</th>\n",
              "      <td>87.55</td>\n",
              "      <td>87.55</td>\n",
              "    </tr>\n",
              "    <tr>\n",
              "      <th>DecisionTreeClassifier</th>\n",
              "      <td>71.12</td>\n",
              "      <td>71.12</td>\n",
              "    </tr>\n",
              "    <tr>\n",
              "      <th>KNeighborsClassifier</th>\n",
              "      <td>58.29</td>\n",
              "      <td>58.29</td>\n",
              "    </tr>\n",
              "    <tr>\n",
              "      <th>LogisticRegression</th>\n",
              "      <td>56.03</td>\n",
              "      <td>56.03</td>\n",
              "    </tr>\n",
              "    <tr>\n",
              "      <th>GaussianNB</th>\n",
              "      <td>39.66</td>\n",
              "      <td>39.66</td>\n",
              "    </tr>\n",
              "  </tbody>\n",
              "</table>\n",
              "</div>"
            ],
            "text/plain": [
              "                        1_Iteration    avg\n",
              "LGBMClassifier                88.48  88.48\n",
              "SVC                           87.55  87.55\n",
              "DecisionTreeClassifier        71.12  71.12\n",
              "KNeighborsClassifier          58.29  58.29\n",
              "LogisticRegression            56.03  56.03\n",
              "GaussianNB                    39.66  39.66"
            ]
          },
          "metadata": {
            "tags": []
          }
        }
      ]
    },
    {
      "cell_type": "code",
      "metadata": {
        "id": "WFScjlzWWju8",
        "colab_type": "code",
        "outputId": "7984b1f6-b258-4e64-980c-be4e884555d4",
        "colab": {
          "base_uri": "https://localhost:8080/",
          "height": 235
        }
      },
      "source": [
        "# Area under Curve (AUC) of different classifiers\n",
        "\n",
        "auc_df3 = metric_avg(auc_dict_ngramchar_tfidf)\n",
        "sorted_auc_df3 = auc_df3.sort_values(by='avg', ascending=False)\n",
        "display(sorted_auc_df3)"
      ],
      "execution_count": 0,
      "outputs": [
        {
          "output_type": "display_data",
          "data": {
            "text/html": [
              "<div>\n",
              "<style scoped>\n",
              "    .dataframe tbody tr th:only-of-type {\n",
              "        vertical-align: middle;\n",
              "    }\n",
              "\n",
              "    .dataframe tbody tr th {\n",
              "        vertical-align: top;\n",
              "    }\n",
              "\n",
              "    .dataframe thead th {\n",
              "        text-align: right;\n",
              "    }\n",
              "</style>\n",
              "<table border=\"1\" class=\"dataframe\">\n",
              "  <thead>\n",
              "    <tr style=\"text-align: right;\">\n",
              "      <th></th>\n",
              "      <th>1_Iteration</th>\n",
              "      <th>avg</th>\n",
              "    </tr>\n",
              "  </thead>\n",
              "  <tbody>\n",
              "    <tr>\n",
              "      <th>SVC</th>\n",
              "      <td>96.50</td>\n",
              "      <td>96.50</td>\n",
              "    </tr>\n",
              "    <tr>\n",
              "      <th>LGBMClassifier</th>\n",
              "      <td>96.32</td>\n",
              "      <td>96.32</td>\n",
              "    </tr>\n",
              "    <tr>\n",
              "      <th>LogisticRegression</th>\n",
              "      <td>94.17</td>\n",
              "      <td>94.17</td>\n",
              "    </tr>\n",
              "    <tr>\n",
              "      <th>KNeighborsClassifier</th>\n",
              "      <td>76.25</td>\n",
              "      <td>76.25</td>\n",
              "    </tr>\n",
              "    <tr>\n",
              "      <th>GaussianNB</th>\n",
              "      <td>74.69</td>\n",
              "      <td>74.69</td>\n",
              "    </tr>\n",
              "    <tr>\n",
              "      <th>DecisionTreeClassifier</th>\n",
              "      <td>70.72</td>\n",
              "      <td>70.72</td>\n",
              "    </tr>\n",
              "  </tbody>\n",
              "</table>\n",
              "</div>"
            ],
            "text/plain": [
              "                        1_Iteration    avg\n",
              "SVC                           96.50  96.50\n",
              "LGBMClassifier                96.32  96.32\n",
              "LogisticRegression            94.17  94.17\n",
              "KNeighborsClassifier          76.25  76.25\n",
              "GaussianNB                    74.69  74.69\n",
              "DecisionTreeClassifier        70.72  70.72"
            ]
          },
          "metadata": {
            "tags": []
          }
        }
      ]
    },
    {
      "cell_type": "code",
      "metadata": {
        "id": "s4jfyP2NX-Xg",
        "colab_type": "code",
        "outputId": "7c644f62-b918-4bb1-fe7f-b368a5c46de0",
        "colab": {
          "base_uri": "https://localhost:8080/",
          "height": 546
        }
      },
      "source": [
        "plot_metrics(sorted_acc_df3, sorted_f1_df3, sorted_auc_df3)"
      ],
      "execution_count": 0,
      "outputs": [
        {
          "output_type": "display_data",
          "data": {
            "image/png": "[encoded data removed]",
            "text/plain": [
              "<Figure size 1296x864 with 3 Axes>"
            ]
          },
          "metadata": {
            "tags": []
          }
        }
      ]
    },
    {
      "cell_type": "markdown",
      "metadata": {
        "id": "X36J36VWext8",
        "colab_type": "text"
      },
      "source": [
        "**Seach optimal parameters for models**\n",
        "???"
      ]
    },
    {
      "cell_type": "code",
      "metadata": {
        "id": "orVxMImTFrAJ",
        "colab_type": "code",
        "colab": {}
      },
      "source": [
        "pipe = Pipeline([('count',CountVectorizer(analyzer='word', tokenizer=None,lowercase=False,ngram_range=(1,2),binary=True)),('tfidf', TfidfTransformer()),('svd', TruncatedSVD(n_components=300, random_state=42))])#"
      ],
      "execution_count": 0,
      "outputs": []
    },
    {
      "cell_type": "code",
      "metadata": {
        "id": "gPNGv2ZYGNmo",
        "colab_type": "code",
        "colab": {}
      },
      "source": [
        "X_train = pipe.fit_transform(X_train)\n",
        "X_test = pipe.transform(X_test)"
      ],
      "execution_count": 0,
      "outputs": []
    },
    {
      "cell_type": "code",
      "metadata": {
        "id": "vcpjVySKiD5B",
        "colab_type": "code",
        "colab": {}
      },
      "source": [
        "models = [\n",
        "        GaussianNB(),\n",
        "        SVC(probability=True),\n",
        "        LogisticRegression(),\n",
        "        DecisionTreeClassifier(),\n",
        "        KNeighborsClassifier(),\n",
        "        lgb.LGBMClassifier()]\n",
        "param_dists = [param_dist_naive, param_dist_svm, param_dist_lr, param_dist_dt, param_dist_knn, param_dist_lgb]"
      ],
      "execution_count": 0,
      "outputs": []
    },
    {
      "cell_type": "code",
      "metadata": {
        "id": "ZeDf5rSrexH3",
        "colab_type": "code",
        "outputId": "b31dfbb8-fab3-4464-98af-6111547efebc",
        "colab": {
          "base_uri": "https://localhost:8080/",
          "height": 51
        }
      },
      "source": [
        "%%time\n",
        "best_estimator = search_best_parameters(models, param_dists, X_train, y_train)"
      ],
      "execution_count": 0,
      "outputs": [
        {
          "output_type": "stream",
          "text": [
            "CPU times: user 16.5 s, sys: 1.32 s, total: 17.8 s\n",
            "Wall time: 5min 37s\n"
          ],
          "name": "stdout"
        }
      ]
    },
    {
      "cell_type": "code",
      "metadata": {
        "id": "bARRoCm-qG5d",
        "colab_type": "code",
        "outputId": "28ecf539-251a-4dca-ea30-042e5578712c",
        "colab": {
          "base_uri": "https://localhost:8080/",
          "height": 459
        }
      },
      "source": [
        "for i in range(len(models)):\n",
        "    print(best_estimator[i])"
      ],
      "execution_count": 0,
      "outputs": [
        {
          "output_type": "stream",
          "text": [
            "GaussianNB(priors=None, var_smoothing=1e-09)\n",
            "SVC(C=2.0, break_ties=False, cache_size=200, class_weight=None, coef0=0.0,\n",
            "    decision_function_shape='ovr', degree=2, gamma=1.0, kernel='sigmoid',\n",
            "    max_iter=-1, probability=True, random_state=None, shrinking=True, tol=0.001,\n",
            "    verbose=False)\n",
            "LogisticRegression(C=9.0, class_weight=None, dual=False, fit_intercept=True,\n",
            "                   intercept_scaling=1, l1_ratio=None, max_iter=100,\n",
            "                   multi_class='auto', n_jobs=None, penalty='l2',\n",
            "                   random_state=None, solver='lbfgs', tol=0.0001, verbose=0,\n",
            "                   warm_start=False)\n",
            "DecisionTreeClassifier(ccp_alpha=0.0, class_weight=None, criterion='gini',\n",
            "                       max_depth=58, max_features=None, max_leaf_nodes=None,\n",
            "                       min_impurity_decrease=0.0, min_impurity_split=None,\n",
            "                       min_samples_leaf=1, min_samples_split=2,\n",
            "                       min_weight_fraction_leaf=0.0, presort='deprecated',\n",
            "                       random_state=None, splitter='best')\n",
            "KNeighborsClassifier(algorithm='auto', leaf_size=30, metric='euclidean',\n",
            "                     metric_params=None, n_jobs=None, n_neighbors=5, p=2,\n",
            "                     weights='uniform')\n",
            "LGBMClassifier(boosting_type='gbdt', class_weight=None, colsample_bytree=1.0,\n",
            "               importance_type='split', learning_rate=0.06999999999999999,\n",
            "               max_depth=7, min_child_samples=20, min_child_weight=0.001,\n",
            "               min_split_gain=0.0, n_estimators=60, n_jobs=-1, num_leaves=50,\n",
            "               objective=None, random_state=None, reg_alpha=0.0, reg_lambda=0.0,\n",
            "               silent=True, subsample=1.0, subsample_for_bin=200000,\n",
            "               subsample_freq=0)\n"
          ],
          "name": "stdout"
        }
      ]
    },
    {
      "cell_type": "code",
      "metadata": {
        "id": "lRZ5mXK8qF5e",
        "colab_type": "code",
        "colab": {}
      },
      "source": [
        "# copy optimal parameters into models\n",
        "model_naive = GaussianNB(priors=None, var_smoothing=1e-09)\n",
        "model_svm = SVC(C=2.0, break_ties=False, cache_size=200, class_weight=None, coef0=0.0,\n",
        "    decision_function_shape='ovr', degree=2, gamma=1.0, kernel='sigmoid',\n",
        "    max_iter=-1, probability=True, random_state=None, shrinking=True, tol=0.001,\n",
        "    verbose=False)\n",
        "\n",
        "model_lr = LogisticRegression(C=9.0, class_weight=None, dual=False, fit_intercept=True,\n",
        "                   intercept_scaling=1, l1_ratio=None, max_iter=100,\n",
        "                   multi_class='auto', n_jobs=None, penalty='l2',\n",
        "                   random_state=None, solver='lbfgs', tol=0.0001, verbose=0,\n",
        "                   warm_start=False)\n",
        "model_dectree = DecisionTreeClassifier(ccp_alpha=0.0, class_weight=None, criterion='gini',\n",
        "                       max_depth=58, max_features=None, max_leaf_nodes=None,\n",
        "                       min_impurity_decrease=0.0, min_impurity_split=None,\n",
        "                       min_samples_leaf=1, min_samples_split=2,\n",
        "                       min_weight_fraction_leaf=0.0, presort='deprecated',\n",
        "                       random_state=None, splitter='best')\n",
        "model_knn = KNeighborsClassifier(algorithm='auto', leaf_size=30, metric='euclidean',\n",
        "                     metric_params=None, n_jobs=None, n_neighbors=5, p=2,\n",
        "                     weights='uniform')\n",
        "model_lgb = lgb.LGBMClassifier(boosting_type='gbdt', class_weight=None, colsample_bytree=1.0,\n",
        "               importance_type='split', learning_rate=0.06999999999999999,\n",
        "               max_depth=7, min_child_samples=20, min_child_weight=0.001,\n",
        "               min_split_gain=0.0, n_estimators=60, n_jobs=-1, num_leaves=50,\n",
        "               objective=None, random_state=None, reg_alpha=0.0, reg_lambda=0.0,\n",
        "               silent=True, subsample=1.0, subsample_for_bin=200000,\n",
        "               subsample_freq=0)#LightGBM by Microsoft.Градиентный бустинг\n"
      ],
      "execution_count": 0,
      "outputs": []
    },
    {
      "cell_type": "code",
      "metadata": {
        "id": "S3rQ-thHtBX7",
        "colab_type": "code",
        "colab": {}
      },
      "source": [
        "model_naive.fit(X_train, y_train)\n",
        "y_pred_naive = model_naive.predict(X_test)\n",
        "\n",
        "##################\n",
        "model_svm.fit(X_train, y_train)\n",
        "y_pred_svm = model_svm.predict(X_test)\n",
        "###################\n",
        "model_lr.fit(X_train, y_train)\n",
        "y_pred_lr = model_lr.predict(X_test)\n",
        "###################\n",
        "model_dectree.fit(X_train, y_train)\n",
        "y_pred_dectree = model_dectree.predict(X_test)\n",
        "##################\n",
        "model_knn.fit(X_train, y_train)\n",
        "y_pred_knn = model_knn.predict(X_test)\n",
        "#################\n",
        "model_lgb.fit(X_train, y_train)\n",
        "y_pred_lgb = model_lgb.predict(X_test)"
      ],
      "execution_count": 0,
      "outputs": []
    },
    {
      "cell_type": "code",
      "metadata": {
        "id": "hAhCLIX0tdG9",
        "colab_type": "code",
        "colab": {}
      },
      "source": [
        "##Ensemble model after finding optimal parameters\n",
        "ensemble_clf = VotingClassifier(estimators=[('svm',model_svm),('lr',model_lr),('naive',model_naive),('dectree', model_dectree),\n",
        "                                            ('knn', model_knn),('lgb',model_lgb)], voting ='hard')"
      ],
      "execution_count": 0,
      "outputs": []
    },
    {
      "cell_type": "code",
      "metadata": {
        "id": "dZhgFpjlb-zc",
        "colab_type": "code",
        "colab": {}
      },
      "source": [
        "ensemble_clf.fit(X_train, y_train)\n",
        "y_pre_ensem = ensemble_clf.predict(X_test)"
      ],
      "execution_count": 0,
      "outputs": []
    },
    {
      "cell_type": "code",
      "metadata": {
        "id": "6kgePd9mGP2l",
        "colab_type": "code",
        "colab": {}
      },
      "source": [
        "def plot_confusion_matrix(cm, classes,\n",
        "                          normalize=False,\n",
        "                          title='Confusion matrix',\n",
        "                          cmap=plt.cm.Blues):\n",
        "    \"\"\"\n",
        "    This function prints and plots the confusion matrix.\n",
        "    Normalization can be applied by setting `normalize=True`.\n",
        "    \"\"\"\n",
        "    if normalize:\n",
        "        cm = cm.astype('float') / cm.sum(axis=1)[:, np.newaxis]\n",
        "        print(\"Normalized confusion matrix\")\n",
        "    else:\n",
        "        print('Confusion matrix, without normalization')\n",
        "\n",
        "    print(cm)\n",
        "\n",
        "    plt.imshow(cm, interpolation='nearest', cmap=cmap)\n",
        "    plt.title(title)\n",
        "    plt.colorbar()\n",
        "    tick_marks = np.arange(len(classes))\n",
        "    plt.xticks(tick_marks, classes, rotation=45)\n",
        "    plt.yticks(tick_marks, classes)\n",
        "\n",
        "    fmt = '.2f' if normalize else 'd'\n",
        "    thresh = cm.max() / 2.\n",
        "    for i, j in itertools.product(range(cm.shape[0]), range(cm.shape[1])):\n",
        "        plt.text(j, i, format(cm[i, j], fmt),\n",
        "                 horizontalalignment=\"center\",\n",
        "                 color=\"white\" if cm[i, j] > thresh else \"black\")\n",
        "\n",
        "    plt.ylabel('True label')\n",
        "    plt.xlabel('Predicted label')\n",
        "    plt.tight_layout()"
      ],
      "execution_count": 0,
      "outputs": []
    },
    {
      "cell_type": "code",
      "metadata": {
        "id": "s-i8jIu_GYv4",
        "colab_type": "code",
        "outputId": "91071b2e-dcf1-4284-da7b-3d918d68a4f0",
        "colab": {
          "base_uri": "https://localhost:8080/",
          "height": 1000
        }
      },
      "source": [
        "cnf_matrix_naive = confusion_matrix(y_test, y_pred_naive)\n",
        "np.set_printoptions(precision=2)\n",
        "plt.figure()\n",
        "plot_confusion_matrix(cnf_matrix_naive, classes = ['Real: 0', 'Fake: 1'],\n",
        "                      title='Confusion matrix of model GaussianNB')\n",
        "####################\n",
        "cnf_matrix_svm = confusion_matrix(y_test, y_pred_svm)\n",
        "np.set_printoptions(precision=2)\n",
        "plt.figure()\n",
        "plot_confusion_matrix(cnf_matrix_svm, classes = ['Real: 0', 'Fake: 1'],\n",
        "                      title='Confusion matrix of model SVM')\n",
        "######################\n",
        "cnf_matrix_lr = confusion_matrix(y_test, y_pred_lr)\n",
        "np.set_printoptions(precision=2)\n",
        "plt.figure()\n",
        "plot_confusion_matrix(cnf_matrix_lr, classes = ['Real: 0', 'Fake: 1'],\n",
        "                      title='Confusion matrix of model LogisticRegression')\n",
        "######################\n",
        "cnf_matrix_dectree = confusion_matrix(y_test, y_pred_dectree)\n",
        "np.set_printoptions(precision=2)\n",
        "plt.figure()\n",
        "plot_confusion_matrix(cnf_matrix_dectree, classes = ['Real: 0', 'Fake: 1'],\n",
        "                      title='Confusion matrix of model DecisionTreeClassifier')\n",
        "######################\n",
        "cnf_matrix_knn = confusion_matrix(y_test, y_pred_knn)\n",
        "np.set_printoptions(precision=2)\n",
        "plt.figure()\n",
        "plot_confusion_matrix(cnf_matrix_knn, classes = ['Real: 0', 'Fake: 1'],\n",
        "                      title='Confusion matrix of model KNeighborsClassifier')\n",
        "######################\n",
        "cnf_matrix_lgb = confusion_matrix(y_test, y_pred_lgb)\n",
        "np.set_printoptions(precision=2)\n",
        "plt.figure()\n",
        "plot_confusion_matrix(cnf_matrix_lgb, classes = ['Real: 0', 'Fake: 1'],\n",
        "                      title='Confusion matrix of model lgb.LGBMClassifier')\n",
        "######################\n",
        "cnf_matrix_ensem = confusion_matrix(y_test, y_pre_ensem)\n",
        "np.set_printoptions(precision=2)\n",
        "plt.figure()\n",
        "plot_confusion_matrix(cnf_matrix_ensem, classes = ['Real: 0', 'Fake: 1'],\n",
        "                      title='Confusion matrix of ensemble model')"
      ],
      "execution_count": 0,
      "outputs": [
        {
          "output_type": "stream",
          "text": [
            "Confusion matrix, without normalization\n",
            "[[34 21]\n",
            " [ 7 32]]\n",
            "Confusion matrix, without normalization\n",
            "[[53  2]\n",
            " [ 4 35]]\n",
            "Confusion matrix, without normalization\n",
            "[[55  0]\n",
            " [14 25]]\n",
            "Confusion matrix, without normalization\n",
            "[[52  3]\n",
            " [10 29]]\n",
            "Confusion matrix, without normalization\n",
            "[[53  2]\n",
            " [ 6 33]]\n",
            "Confusion matrix, without normalization\n",
            "[[55  0]\n",
            " [12 27]]\n",
            "Confusion matrix, without normalization\n",
            "[[55  0]\n",
            " [10 29]]\n"
          ],
          "name": "stdout"
        },
        {
          "output_type": "display_data",
          "data": {
            "image/png": "[encoded data removed]",
            "text/plain": [
              "<Figure size 432x288 with 2 Axes>"
            ]
          },
          "metadata": {
            "tags": []
          }
        },
        {
          "output_type": "display_data",
          "data": {
            "image/png": "[encoded data removed]",
            "text/plain": [
              "<Figure size 432x288 with 2 Axes>"
            ]
          },
          "metadata": {
            "tags": []
          }
        },
        {
          "output_type": "display_data",
          "data": {
            "image/png": "[encoded data removed]",
            "text/plain": [
              "<Figure size 432x288 with 2 Axes>"
            ]
          },
          "metadata": {
            "tags": []
          }
        },
        {
          "output_type": "display_data",
          "data": {
            "image/png": "[encoded data removed]",
            "text/plain": [
              "<Figure size 432x288 with 2 Axes>"
            ]
          },
          "metadata": {
            "tags": []
          }
        },
        {
          "output_type": "display_data",
          "data": {
            "image/png": "[encoded data removed]",
            "text/plain": [
              "<Figure size 432x288 with 2 Axes>"
            ]
          },
          "metadata": {
            "tags": []
          }
        },
        {
          "output_type": "display_data",
          "data": {
            "image/png": "[encoded data removed]",
            "text/plain": [
              "<Figure size 432x288 with 2 Axes>"
            ]
          },
          "metadata": {
            "tags": []
          }
        },
        {
          "output_type": "display_data",
          "data": {
            "image/png": "[encoded data removed]",
            "text/plain": [
              "<Figure size 432x288 with 2 Axes>"
            ]
          },
          "metadata": {
            "tags": []
          }
        }
      ]
    },
    {
      "cell_type": "code",
      "metadata": {
        "scrolled": true,
        "id": "SPyFnhojHAeh",
        "colab_type": "code",
        "outputId": "b6f76be6-6b4b-443c-c33f-8d622421c7f8",
        "colab": {
          "base_uri": "https://localhost:8080/",
          "height": 1000
        }
      },
      "source": [
        "y_pre = [y_pred_naive, y_pred_svm, y_pred_lr,y_pred_dectree, y_pred_knn, y_pred_lgb, y_pre_ensem]\n",
        "names = [ \"Naive\",\"SVM\", \"LogisticRegression\",\" DecisionTreeClassifie\", \n",
        "             \"Nearest Neighbors\", \" LightGBM Classifier\", \"Ensemble Model\"]\n",
        "for  j, name in zip(y_pre, names):\n",
        "      print('Classification report of'+ name)\n",
        "      print(classification_report(y_test, j, target_names=['Real', 'Fake']))\n"
      ],
      "execution_count": 0,
      "outputs": [
        {
          "output_type": "stream",
          "text": [
            "Classification report ofNaive\n",
            "              precision    recall  f1-score   support\n",
            "\n",
            "        Real       0.83      0.62      0.71        55\n",
            "        Fake       0.60      0.82      0.70        39\n",
            "\n",
            "    accuracy                           0.70        94\n",
            "   macro avg       0.72      0.72      0.70        94\n",
            "weighted avg       0.74      0.70      0.70        94\n",
            "\n",
            "Classification report ofSVM\n",
            "              precision    recall  f1-score   support\n",
            "\n",
            "        Real       0.93      0.96      0.95        55\n",
            "        Fake       0.95      0.90      0.92        39\n",
            "\n",
            "    accuracy                           0.94        94\n",
            "   macro avg       0.94      0.93      0.93        94\n",
            "weighted avg       0.94      0.94      0.94        94\n",
            "\n",
            "Classification report ofLogisticRegression\n",
            "              precision    recall  f1-score   support\n",
            "\n",
            "        Real       0.80      1.00      0.89        55\n",
            "        Fake       1.00      0.64      0.78        39\n",
            "\n",
            "    accuracy                           0.85        94\n",
            "   macro avg       0.90      0.82      0.83        94\n",
            "weighted avg       0.88      0.85      0.84        94\n",
            "\n",
            "Classification report of DecisionTreeClassifie\n",
            "              precision    recall  f1-score   support\n",
            "\n",
            "        Real       0.84      0.95      0.89        55\n",
            "        Fake       0.91      0.74      0.82        39\n",
            "\n",
            "    accuracy                           0.86        94\n",
            "   macro avg       0.87      0.84      0.85        94\n",
            "weighted avg       0.87      0.86      0.86        94\n",
            "\n",
            "Classification report ofNearest Neighbors\n",
            "              precision    recall  f1-score   support\n",
            "\n",
            "        Real       0.90      0.96      0.93        55\n",
            "        Fake       0.94      0.85      0.89        39\n",
            "\n",
            "    accuracy                           0.91        94\n",
            "   macro avg       0.92      0.90      0.91        94\n",
            "weighted avg       0.92      0.91      0.91        94\n",
            "\n",
            "Classification report of LightGBM Classifier\n",
            "              precision    recall  f1-score   support\n",
            "\n",
            "        Real       0.82      1.00      0.90        55\n",
            "        Fake       1.00      0.69      0.82        39\n",
            "\n",
            "    accuracy                           0.87        94\n",
            "   macro avg       0.91      0.85      0.86        94\n",
            "weighted avg       0.90      0.87      0.87        94\n",
            "\n",
            "Classification report ofEnsemble Model\n",
            "              precision    recall  f1-score   support\n",
            "\n",
            "        Real       0.85      1.00      0.92        55\n",
            "        Fake       1.00      0.74      0.85        39\n",
            "\n",
            "    accuracy                           0.89        94\n",
            "   macro avg       0.92      0.87      0.88        94\n",
            "weighted avg       0.91      0.89      0.89        94\n",
            "\n"
          ],
          "name": "stdout"
        }
      ]
    },
    {
      "cell_type": "code",
      "metadata": {
        "id": "-FIrdTypqmlZ",
        "colab_type": "code",
        "outputId": "318e686e-f281-4d73-a2e7-2470e312b645",
        "colab": {
          "base_uri": "https://localhost:8080/",
          "height": 136
        }
      },
      "source": [
        "for  j, name in zip(y_pre, names):\n",
        "      print('Accuracy score of '+ name, np.around(accuracy_score(y_test, j), decimals=2), 'F1_core',np.around(f1_score(y_test, j,  average='weighted'), decimals=2))\n",
        "      "
      ],
      "execution_count": 0,
      "outputs": [
        {
          "output_type": "stream",
          "text": [
            "Accuracy score of Naive 0.7 F1_core 0.7\n",
            "Accuracy score of SVM 0.94 F1_core 0.94\n",
            "Accuracy score of LogisticRegression 0.85 F1_core 0.84\n",
            "Accuracy score of  DecisionTreeClassifie 0.86 F1_core 0.86\n",
            "Accuracy score of Nearest Neighbors 0.91 F1_core 0.91\n",
            "Accuracy score of  LightGBM Classifier 0.87 F1_core 0.87\n",
            "Accuracy score of Ensemble Model 0.89 F1_core 0.89\n"
          ],
          "name": "stdout"
        }
      ]
    },
    {
      "cell_type": "code",
      "metadata": {
        "id": "1ctSTccAubIG",
        "colab_type": "code",
        "colab": {}
      },
      "source": [
        "from sklearn.externals import joblib\n",
        "model_paths = [ 'model/Naive.sav','model/SVM.sav', 'model/LogisticRegression.sav','model/DecisionTreeClassifie.sav', \n",
        "             'model/Nearest Neighbors.sav', 'model/LightGBM Classifier.sav', 'model/Ensemble_Model.sav']\n",
        "model_names = [model_svm, model_lr, model_naive, model_dectree,\n",
        "                model_knn, model_lgb]\n",
        "for i , j in zip(model_names, model_paths):\n",
        "    joblib.dump(i, os.path.join(data_path, j))"
      ],
      "execution_count": 0,
      "outputs": []
    },
    {
      "cell_type": "code",
      "metadata": {
        "id": "bAaNz_-foWAo",
        "colab_type": "code",
        "colab": {}
      },
      "source": [
        ""
      ],
      "execution_count": 0,
      "outputs": []
    }
  ]
}